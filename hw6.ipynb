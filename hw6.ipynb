{
 "cells": [
  {
   "cell_type": "code",
   "execution_count": 13,
   "metadata": {},
   "outputs": [],
   "source": [
    "from sympy import *\n",
    "import numpy as np\n",
    "init_printing(use_latex=True)\n",
    "\n",
    "import matplotlib.pyplot as plt"
   ]
  },
  {
   "cell_type": "markdown",
   "metadata": {},
   "source": [
    "# AAE 301 HW 6 - nick mondora"
   ]
  },
  {
   "cell_type": "markdown",
   "metadata": {},
   "source": [
    "kinda jenk but might help check"
   ]
  },
  {
   "cell_type": "markdown",
   "metadata": {},
   "source": [
    "## part a"
   ]
  },
  {
   "cell_type": "code",
   "execution_count": 14,
   "metadata": {},
   "outputs": [],
   "source": [
    "t, s = sympy.symbols('t, s')\n",
    "a = sympy.symbols('a', real=True, positive=True)"
   ]
  },
  {
   "cell_type": "code",
   "execution_count": 15,
   "metadata": {},
   "outputs": [
    {
     "data": {
      "image/png": "[encoded data removed]",
      "text/plain": [
       "<Figure size 432x288 with 1 Axes>"
      ]
     },
     "metadata": {
      "needs_background": "light"
     },
     "output_type": "display_data"
    },
    {
     "data": {
      "text/latex": [
       "$\\displaystyle \\begin{cases} 2 & \\text{for}\\: t \\geq 1 \\wedge t < 2 \\\\-2 & \\text{for}\\: t \\geq 2 \\wedge t \\leq 4 \\\\0 & \\text{for}\\: t > 4 \\vee t < 0 \\end{cases}$"
      ],
      "text/plain": [
       "⎧2   for t ≥ 1 ∧ t < 2\n",
       "⎪                     \n",
       "⎨-2  for t ≥ 2 ∧ t ≤ 4\n",
       "⎪                     \n",
       "⎩0   for t > 4 ∨ t < 0"
      ]
     },
     "execution_count": 15,
     "metadata": {},
     "output_type": "execute_result"
    }
   ],
   "source": [
    "t = sympy.symbols('t', real=True)\n",
    "f = Piecewise(\n",
    "    (2, (t >= 1) & (t < 2)),   \n",
    "    (-2, (t >= 2) & (t <= 4)),     \n",
    "    (0, (t > 4) | (t < 0))\n",
    ")\n",
    "plot(f, (t, 0, 5))\n",
    "f"
   ]
  },
  {
   "cell_type": "code",
   "execution_count": 16,
   "metadata": {},
   "outputs": [
    {
     "data": {
      "text/latex": [
       "$\\displaystyle \\left( \\text{NaN}, \\  -\\infty, \\  \\text{True}\\right)$"
      ],
      "text/plain": [
       "(nan, -∞, True)"
      ]
     },
     "execution_count": 16,
     "metadata": {},
     "output_type": "execute_result"
    }
   ],
   "source": [
    "partA = sympy.laplace_transform(f,t,s)\n",
    "partA"
   ]
  },
  {
   "cell_type": "markdown",
   "metadata": {},
   "source": [
    "what the fuck"
   ]
  },
  {
   "cell_type": "markdown",
   "metadata": {},
   "source": [
    "## part b"
   ]
  },
  {
   "cell_type": "code",
   "execution_count": 17,
   "metadata": {},
   "outputs": [],
   "source": [
    "t2 = sympy.symbols('t2', real=True, positive=True)\n",
    "f = 2*exp(-2*t2)*sin(3*t2)-3*exp(-3*t2)*cos(6*t2)"
   ]
  },
  {
   "cell_type": "code",
   "execution_count": 18,
   "metadata": {},
   "outputs": [
    {
     "data": {
      "image/png": "[encoded data removed]",
      "text/latex": [
       "$\\displaystyle \\left( \\frac{3 \\left(2 \\left(s + 3\\right)^{2} - \\left(s + 3\\right) \\left(\\left(s + 2\\right)^{2} + 9\\right) + 72\\right)}{\\left(\\left(s + 2\\right)^{2} + 9\\right) \\left(\\left(s + 3\\right)^{2} + 36\\right)}, \\  -\\infty, \\  \\operatorname{re}{\\left(s\\right)} + 2 > 0 \\wedge \\operatorname{re}{\\left(s\\right)} + 3 > 0\\right)$"
      ],
      "text/plain": [
       "⎛  ⎛         2           ⎛       2    ⎞     ⎞                                 \n",
       "⎜3⋅⎝2⋅(s + 3)  - (s + 3)⋅⎝(s + 2)  + 9⎠ + 72⎠                                 \n",
       "⎜────────────────────────────────────────────, -∞, re(s) + 2 > 0 ∧ re(s) + 3 >\n",
       "⎜       ⎛       2    ⎞ ⎛       2     ⎞                                        \n",
       "⎝       ⎝(s + 2)  + 9⎠⋅⎝(s + 3)  + 36⎠                                        \n",
       "\n",
       "  ⎞\n",
       "  ⎟\n",
       " 0⎟\n",
       "  ⎟\n",
       "  ⎠"
      ]
     },
     "execution_count": 18,
     "metadata": {},
     "output_type": "execute_result"
    }
   ],
   "source": [
    "partB = sympy.laplace_transform(f,t2,s)\n",
    "partB"
   ]
  },
  {
   "cell_type": "markdown",
   "metadata": {},
   "source": [
    "## part c"
   ]
  },
  {
   "cell_type": "code",
   "execution_count": 19,
   "metadata": {},
   "outputs": [
    {
     "data": {
      "image/png": "[encoded data removed]",
      "text/latex": [
       "$\\displaystyle \\sin{\\left(\\phi + t w \\right)} + \\delta\\left(t\\right)$"
      ],
      "text/plain": [
       "sin(φ + t⋅w) + δ(t)"
      ]
     },
     "execution_count": 19,
     "metadata": {},
     "output_type": "execute_result"
    }
   ],
   "source": [
    "w = sympy.symbols('w', real=True)\n",
    "phi = sympy.symbols('phi', real=True)\n",
    "f = DiracDelta(t) + sin(w*t + phi)\n",
    "f"
   ]
  },
  {
   "cell_type": "code",
   "execution_count": 20,
   "metadata": {},
   "outputs": [
    {
     "data": {
      "image/png": "[encoded data removed]",
      "text/latex": [
       "$\\displaystyle \\left( - \\theta\\left(0\\right) + 1 + \\frac{s \\sin{\\left(\\phi \\right)} + w \\cos{\\left(\\phi \\right)}}{s^{2} + w^{2}}, \\  0, \\  2 \\left|{\\arg{\\left(w \\right)}}\\right| = 0\\right)$"
      ],
      "text/plain": [
       "⎛            s⋅sin(φ) + w⋅cos(φ)                   ⎞\n",
       "⎜-θ(0) + 1 + ───────────────────, 0, 2⋅│arg(w)│ = 0⎟\n",
       "⎜                   2    2                         ⎟\n",
       "⎝                  s  + w                          ⎠"
      ]
     },
     "execution_count": 20,
     "metadata": {},
     "output_type": "execute_result"
    }
   ],
   "source": [
    "partC = sympy.laplace_transform(f, t, s)\n",
    "partC"
   ]
  },
  {
   "cell_type": "markdown",
   "metadata": {},
   "source": [
    "## part d"
   ]
  },
  {
   "cell_type": "code",
   "execution_count": 21,
   "metadata": {},
   "outputs": [
    {
     "data": {
      "image/png": "[encoded data removed]",
      "text/latex": [
       "$\\displaystyle 10 t^{3}$"
      ],
      "text/plain": [
       "    3\n",
       "10⋅t "
      ]
     },
     "execution_count": 21,
     "metadata": {},
     "output_type": "execute_result"
    }
   ],
   "source": [
    "f = 10*t**3\n",
    "f"
   ]
  },
  {
   "cell_type": "code",
   "execution_count": 22,
   "metadata": {},
   "outputs": [
    {
     "data": {
      "text/latex": [
       "$\\displaystyle \\left( \\frac{60}{s^{4}}, \\  0, \\  \\text{True}\\right)$"
      ],
      "text/plain": [
       "⎛60         ⎞\n",
       "⎜──, 0, True⎟\n",
       "⎜ 4         ⎟\n",
       "⎝s          ⎠"
      ]
     },
     "execution_count": 22,
     "metadata": {},
     "output_type": "execute_result"
    }
   ],
   "source": [
    "partD = sympy.laplace_transform(f,t,s)\n",
    "partD"
   ]
  },
  {
   "cell_type": "markdown",
   "metadata": {},
   "source": [
    "## part e"
   ]
  },
  {
   "cell_type": "code",
   "execution_count": 23,
   "metadata": {},
   "outputs": [
    {
     "data": {
      "image/png": "[encoded data removed]",
      "text/latex": [
       "$\\displaystyle t^{2} e^{4 t} \\sin{\\left(3 t \\right)}$"
      ],
      "text/plain": [
       " 2  4⋅t         \n",
       "t ⋅ℯ   ⋅sin(3⋅t)"
      ]
     },
     "execution_count": 23,
     "metadata": {},
     "output_type": "execute_result"
    }
   ],
   "source": [
    "f = t**2 * exp(4*t) * sin(3*t)\n",
    "f"
   ]
  },
  {
   "cell_type": "code",
   "execution_count": 24,
   "metadata": {},
   "outputs": [
    {
     "data": {
      "image/png": "[encoded data removed]",
      "text/latex": [
       "$\\displaystyle \\left( \\frac{18 \\left(\\left(s - 4\\right)^{2} - 3\\right)}{\\left(\\left(s - 4\\right)^{2} + 9\\right)^{3}}, \\  -\\infty, \\  \\left|{2 \\arg{\\left(4 - s \\right)} + 2 \\pi}\\right| < \\pi\\right)$"
      ],
      "text/plain": [
       "⎛   ⎛       2    ⎞                              ⎞\n",
       "⎜18⋅⎝(s - 4)  - 3⎠                              ⎟\n",
       "⎜─────────────────, -∞, │2⋅arg(4 - s) + 2⋅π│ < π⎟\n",
       "⎜               3                               ⎟\n",
       "⎜ ⎛       2    ⎞                                ⎟\n",
       "⎝ ⎝(s - 4)  + 9⎠                                ⎠"
      ]
     },
     "execution_count": 24,
     "metadata": {},
     "output_type": "execute_result"
    }
   ],
   "source": [
    "partE = sympy.laplace_transform(f,t,s)\n",
    "partE"
   ]
  },
  {
   "cell_type": "code",
   "execution_count": 25,
   "metadata": {},
   "outputs": [
    {
     "data": {
      "text/latex": [
       "$\\displaystyle \\left( \\frac{18 \\left(s^{2} - 3\\right)}{\\left(s^{2} + 9\\right)^{3}}, \\  0, \\  \\text{True}\\right)$"
      ],
      "text/plain": [
       "⎛   ⎛ 2    ⎞         ⎞\n",
       "⎜18⋅⎝s  - 3⎠         ⎟\n",
       "⎜───────────, 0, True⎟\n",
       "⎜         3          ⎟\n",
       "⎜ ⎛ 2    ⎞           ⎟\n",
       "⎝ ⎝s  + 9⎠           ⎠"
      ]
     },
     "execution_count": 25,
     "metadata": {},
     "output_type": "execute_result"
    }
   ],
   "source": [
    "f = t**2 * sin(3*t)\n",
    "killme = sympy.laplace_transform(f,t,s)\n",
    "killme"
   ]
  },
  {
   "cell_type": "code",
   "execution_count": null,
   "metadata": {},
   "outputs": [],
   "source": []
  }
 ],
 "metadata": {
  "kernelspec": {
   "display_name": "Python 3",
   "language": "python",
   "name": "python3"
  },
  "language_info": {
   "codemirror_mode": {
    "name": "ipython",
    "version": 3
   },
   "file_extension": ".py",
   "mimetype": "text/x-python",
   "name": "python",
   "nbconvert_exporter": "python",
   "pygments_lexer": "ipython3",
   "version": "3.8.3"
  }
 },
 "nbformat": 4,
 "nbformat_minor": 4
}
