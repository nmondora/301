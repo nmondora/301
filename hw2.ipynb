{
 "cells": [
  {
   "cell_type": "markdown",
   "metadata": {},
   "source": [
    "# AAE 301 HW2"
   ]
  },
  {
   "cell_type": "markdown",
   "metadata": {},
   "source": [
    "Nick Mondora"
   ]
  },
  {
   "cell_type": "code",
   "execution_count": 56,
   "metadata": {},
   "outputs": [],
   "source": [
    "import sympy\n",
    "#import pylab\n",
    "import numpy\n",
    "i = sympy.I\n",
    "pi = sympy.pi\n",
    "exp = sympy.exp\n",
    "sympy.init_printing()"
   ]
  },
  {
   "cell_type": "markdown",
   "metadata": {},
   "source": [
    "# Question 1"
   ]
  },
  {
   "cell_type": "markdown",
   "metadata": {},
   "source": [
    "Consider the vectors f and g in C3 given by"
   ]
  },
  {
   "cell_type": "code",
   "execution_count": 57,
   "metadata": {},
   "outputs": [
    {
     "data": {
      "text/plain": [
       "(array([2, 1 + I, 3 + 2*I], dtype=object),\n",
       " array([I, 3 - I, 4 + 5*I], dtype=object))"
      ]
     },
     "execution_count": 57,
     "metadata": {},
     "output_type": "execute_result"
    }
   ],
   "source": [
    "#f = sympy.symbols('f', complex=True)\n",
    "f = numpy.array([2, 1+1*i, 3+2*i])\n",
    "#g = sympy.symbols('g', complex=True)\n",
    "g = numpy.array([1*i, 3-1*i, 4+5*i])\n",
    "f, g"
   ]
  },
  {
   "cell_type": "markdown",
   "metadata": {},
   "source": [
    "a) Compute (f,g)"
   ]
  },
  {
   "cell_type": "code",
   "execution_count": 58,
   "metadata": {},
   "outputs": [
    {
     "data": {
      "image/png": "[encoded data removed]",
      "text/latex": [
       "$\\displaystyle 24 + 5 i$"
      ],
      "text/plain": [
       "24 + 5⋅ⅈ"
      ]
     },
     "execution_count": 58,
     "metadata": {},
     "output_type": "execute_result"
    }
   ],
   "source": [
    "q1a = numpy.vdot(f, g)\n",
    "sympy.simplify(q1a)"
   ]
  },
  {
   "cell_type": "markdown",
   "metadata": {},
   "source": [
    "c) Compute the distance between f and g"
   ]
  },
  {
   "cell_type": "code",
   "execution_count": 59,
   "metadata": {},
   "outputs": [
    {
     "data": {
      "image/png": "[encoded data removed]",
      "text/latex": [
       "$\\displaystyle 4.79583152331272$"
      ],
      "text/plain": [
       "4.79583152331272"
      ]
     },
     "execution_count": 59,
     "metadata": {},
     "output_type": "execute_result"
    }
   ],
   "source": [
    "q1c = f - g\n",
    "q1c = numpy.absolute(q1c)\n",
    "q1c = numpy.square(q1c)\n",
    "q1c = numpy.sum(q1c)\n",
    "q1c = numpy.power(q1c, .5)\n",
    "sympy.simplify(q1c)"
   ]
  },
  {
   "cell_type": "markdown",
   "metadata": {},
   "source": [
    "# Question 2"
   ]
  },
  {
   "cell_type": "markdown",
   "metadata": {},
   "source": [
    "Consider the inner product space L2(0,1)"
   ]
  },
  {
   "cell_type": "markdown",
   "metadata": {},
   "source": [
    "a) Compute |(1, t^3)"
   ]
  },
  {
   "cell_type": "code",
   "execution_count": 60,
   "metadata": {},
   "outputs": [
    {
     "data": {
      "image/png": "[encoded data removed]",
      "text/latex": [
       "$\\displaystyle \\frac{1}{4}$"
      ],
      "text/plain": [
       "1/4"
      ]
     },
     "execution_count": 60,
     "metadata": {},
     "output_type": "execute_result"
    }
   ],
   "source": [
    "def L2_inner_product(f, g, tau):\n",
    "    # you can define t here to not rely on a global definition\n",
    "    t = sympy.symbols('t', real=True)\n",
    "    return (sympy.integrate(f*sympy.conjugate(g), (t, 0, tau))/tau).simplify()\n",
    "t = sympy.symbols('t', real=True)\n",
    "q2a = L2_inner_product(1, t**3, 1)\n",
    "q2a"
   ]
  },
  {
   "cell_type": "markdown",
   "metadata": {},
   "source": [
    "b) Compute (-it, t^2)"
   ]
  },
  {
   "cell_type": "code",
   "execution_count": 61,
   "metadata": {},
   "outputs": [
    {
     "data": {
      "image/png": "[encoded data removed]",
      "text/latex": [
       "$\\displaystyle - \\frac{i}{4}$"
      ],
      "text/plain": [
       "-ⅈ \n",
       "───\n",
       " 4 "
      ]
     },
     "execution_count": 61,
     "metadata": {},
     "output_type": "execute_result"
    }
   ],
   "source": [
    "q2b = L2_inner_product(-t*i, t**2, 1)\n",
    "q2b"
   ]
  },
  {
   "cell_type": "markdown",
   "metadata": {},
   "source": [
    "c) Compute ||1-it^2||"
   ]
  },
  {
   "cell_type": "code",
   "execution_count": 62,
   "metadata": {},
   "outputs": [
    {
     "data": {
      "image/png": "[encoded data removed]",
      "text/latex": [
       "$\\displaystyle \\frac{\\sqrt{30}}{5}$"
      ],
      "text/plain": [
       "√30\n",
       "───\n",
       " 5 "
      ]
     },
     "execution_count": 62,
     "metadata": {},
     "output_type": "execute_result"
    }
   ],
   "source": [
    "def L2_norm(f, tau):\n",
    "    return sympy.sqrt(L2_inner_product(f, f, tau))\n",
    "\n",
    "q2c = L2_norm(1-i*(t**2), 1)\n",
    "q2c"
   ]
  },
  {
   "cell_type": "markdown",
   "metadata": {},
   "source": [
    "# Question 3"
   ]
  },
  {
   "cell_type": "markdown",
   "metadata": {},
   "source": [
    "Consider the inner product space L2(0, 2pi). Let k and m be unequal integers."
   ]
  },
  {
   "cell_type": "markdown",
   "metadata": {},
   "source": [
    "a) Compute ||cos(kt)||"
   ]
  },
  {
   "cell_type": "code",
   "execution_count": 63,
   "metadata": {},
   "outputs": [
    {
     "data": {
      "text/latex": [
       "$\\displaystyle \\begin{cases} \\frac{\\sqrt{2}}{2} & \\text{for}\\: k \\neq 0 \\\\1 & \\text{otherwise} \\end{cases}$"
      ],
      "text/plain": [
       "⎧√2           \n",
       "⎪──  for k ≠ 0\n",
       "⎨2            \n",
       "⎪             \n",
       "⎩1   otherwise"
      ]
     },
     "execution_count": 63,
     "metadata": {},
     "output_type": "execute_result"
    }
   ],
   "source": [
    "k = sympy.symbols('k', integer = True, real = True)\n",
    "q3a = L2_norm(sympy.cos(k*t), 2*pi)\n",
    "q3a"
   ]
  },
  {
   "cell_type": "markdown",
   "metadata": {},
   "source": [
    "b) Compute (t^2, e^(2ikt))"
   ]
  },
  {
   "cell_type": "code",
   "execution_count": 64,
   "metadata": {},
   "outputs": [
    {
     "data": {
      "text/latex": [
       "$\\displaystyle \\begin{cases} \\frac{i \\pi k + \\frac{1}{2}}{k^{2}} & \\text{for}\\: k \\neq 0 \\\\\\frac{4 \\pi^{2}}{3} & \\text{otherwise} \\end{cases}$"
      ],
      "text/plain": [
       "⎧ⅈ⋅π⋅k + 1/2           \n",
       "⎪───────────  for k ≠ 0\n",
       "⎪      2               \n",
       "⎪     k                \n",
       "⎨                      \n",
       "⎪      2               \n",
       "⎪   4⋅π                \n",
       "⎪   ────      otherwise\n",
       "⎩    3                 "
      ]
     },
     "execution_count": 64,
     "metadata": {},
     "output_type": "execute_result"
    }
   ],
   "source": [
    "q3b = L2_inner_product(t**2, exp(1)**(2*i*t*k), 2*pi)\n",
    "q3b"
   ]
  },
  {
   "cell_type": "markdown",
   "metadata": {},
   "source": [
    "c) Compute (sin(kt), cos(mt))"
   ]
  },
  {
   "cell_type": "code",
   "execution_count": 65,
   "metadata": {},
   "outputs": [
    {
     "data": {
      "image/png": "[encoded data removed]",
      "text/latex": [
       "$\\displaystyle 0$"
      ],
      "text/plain": [
       "0"
      ]
     },
     "execution_count": 65,
     "metadata": {},
     "output_type": "execute_result"
    }
   ],
   "source": [
    "m = sympy.symbols('m', integer=True, real=True)\n",
    "k = sympy.symbols('k', integer = True, real = True)\n",
    "q3c = L2_inner_product(sympy.sin(k*t), sympy.cos(m*t), 2*pi)\n",
    "q3c"
   ]
  },
  {
   "cell_type": "markdown",
   "metadata": {},
   "source": [
    "# Question 4"
   ]
  },
  {
   "cell_type": "markdown",
   "metadata": {},
   "source": [
    "Is e^(2ikt) an orthonormal set of vectors in L2(0, 2pi)?"
   ]
  },
  {
   "cell_type": "code",
   "execution_count": 66,
   "metadata": {},
   "outputs": [
    {
     "name": "stdout",
     "output_type": "stream",
     "text": [
      "Norm:  1\n"
     ]
    },
    {
     "data": {
      "text/latex": [
       "$\\displaystyle \\begin{cases} 1 & \\text{for}\\: \\left(k = 0 \\wedge m = 0\\right) \\vee \\left(k = \\frac{\\pi}{2 t} \\wedge m = \\frac{\\pi}{2 t}\\right) \\vee k = m \\\\0 & \\text{otherwise} \\end{cases}$"
      ],
      "text/plain": [
       "⎧                         ⎛     π         π ⎞        \n",
       "⎪1  for (k = 0 ∧ m = 0) ∨ ⎜k = ─── ∧ m = ───⎟ ∨ k = m\n",
       "⎨                         ⎝    2⋅t       2⋅t⎠        \n",
       "⎪                                                    \n",
       "⎩0                      otherwise                    "
      ]
     },
     "execution_count": 66,
     "metadata": {},
     "output_type": "execute_result"
    }
   ],
   "source": [
    "def L2_norm(f, tau):\n",
    "    return sympy.sqrt(L2_inner_product(f, f, tau))\n",
    "\n",
    "k = sympy.symbols('k', integer = True, real = True)\n",
    "q4 = L2_norm(sympy.exp(2*i*k*t), 2*pi)\n",
    "print(\"Norm: \", q4)\n",
    "\n",
    "q4 = L2_inner_product(sympy.exp(2*i*k*t), sympy.exp(2*i*m*t), 2*pi)\n",
    "q4"
   ]
  },
  {
   "cell_type": "markdown",
   "metadata": {},
   "source": [
    "# Question 5"
   ]
  },
  {
   "cell_type": "markdown",
   "metadata": {},
   "source": [
    "Using Python, find a constant a such that 1 is orthogonal to 1+a^2 in the L2(0,1) space."
   ]
  },
  {
   "cell_type": "code",
   "execution_count": 67,
   "metadata": {},
   "outputs": [
    {
     "name": "stdout",
     "output_type": "stream",
     "text": [
      "a/3 + 1\n",
      "[-3]\n"
     ]
    }
   ],
   "source": [
    "import sympy\n",
    "\n",
    "a = sympy.symbols('a', integer = True, real = True)\n",
    "t = sympy.symbols('t', real=True)\n",
    "\n",
    "# integrate in Lebesgue space where f = 1 and g = 1+at\n",
    "def L2_inner_product(f, g, tau):\n",
    "    # you can define t here to not rely on a global definition\n",
    "    t = sympy.symbols('t', real=True)\n",
    "    return (sympy.integrate(f*sympy.conjugate(g), (t, 0, tau))/tau).simplify()\n",
    "\n",
    "q5 = L2_inner_product(1, 1+a*(t**2), 1)\n",
    "print(q5)\n",
    "print(sympy.solve(q5))"
   ]
  },
  {
   "cell_type": "markdown",
   "metadata": {},
   "source": [
    "# Question 6"
   ]
  },
  {
   "cell_type": "markdown",
   "metadata": {},
   "source": [
    "Using Python, show that cos(t) is orthogonal to sin(t) in the L2(0, 2pi) space, and cos(t) is not orthogonal to sin(t) in the L2(0,1) space."
   ]
  },
  {
   "cell_type": "code",
   "execution_count": 68,
   "metadata": {},
   "outputs": [
    {
     "name": "stdout",
     "output_type": "stream",
     "text": [
      "Inner product of cos(t) and sin(t) in L2(0, 2pi):  0\n",
      "Inner product oc cos(t) and sin(t) in L2(0,1):  sin(1)**2/2\n"
     ]
    }
   ],
   "source": [
    "import sympy\n",
    "\n",
    "def L2_inner_product(f, g, tau):\n",
    "    # you can define t here to not rely on a global definition\n",
    "    t = sympy.symbols('t', real=True)\n",
    "    return (sympy.integrate(f*sympy.conjugate(g), (t, 0, tau))/tau).simplify()\n",
    "\n",
    "t = sympy.symbols('t', real=True)\n",
    "q6 = L2_inner_product(sympy.cos(t), sympy.sin(t), 2*pi)\n",
    "print(\"Inner product of cos(t) and sin(t) in L2(0, 2pi): \", q6)\n",
    "\n",
    "q6 = L2_inner_product(sympy.cos(t), sympy.sin(t), 1)\n",
    "print(\"Inner product oc cos(t) and sin(t) in L2(0,1): \", q6)"
   ]
  },
  {
   "cell_type": "code",
   "execution_count": null,
   "metadata": {},
   "outputs": [],
   "source": []
  }
 ],
 "metadata": {
  "kernelspec": {
   "display_name": "Python 3",
   "language": "python",
   "name": "python3"
  },
  "language_info": {
   "codemirror_mode": {
    "name": "ipython",
    "version": 3
   },
   "file_extension": ".py",
   "mimetype": "text/x-python",
   "name": "python",
   "nbconvert_exporter": "python",
   "pygments_lexer": "ipython3",
   "version": "3.8.3"
  }
 },
 "nbformat": 4,
 "nbformat_minor": 4
}
