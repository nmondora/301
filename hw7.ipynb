{
 "cells": [
  {
   "cell_type": "code",
   "execution_count": 16,
   "metadata": {},
   "outputs": [],
   "source": [
    "from sympy import *\n",
    "import sympy\n",
    "import numpy as np\n",
    "init_printing(use_latex=True)\n",
    "\n",
    "import matplotlib.pyplot as plt"
   ]
  },
  {
   "cell_type": "markdown",
   "metadata": {},
   "source": [
    "# AAE 301 hw7 - nick mondora"
   ]
  },
  {
   "cell_type": "markdown",
   "metadata": {},
   "source": [
    "## question 1a"
   ]
  },
  {
   "cell_type": "code",
   "execution_count": 21,
   "metadata": {},
   "outputs": [],
   "source": [
    "t, s = sympy.symbols('t, s')\n",
    "a = sympy.symbols('a', real=True, positive=True)"
   ]
  },
  {
   "cell_type": "code",
   "execution_count": 29,
   "metadata": {},
   "outputs": [
    {
     "data": {
      "image/png": "[encoded data removed]",
      "text/latex": [
       "$\\displaystyle \\left(e^{3 t} - e^{t} + 1\\right) e^{- 2 t} \\theta\\left(t\\right)$"
      ],
      "text/plain": [
       "⎛ 3⋅t    t    ⎞  -2⋅t     \n",
       "⎝ℯ    - ℯ  + 1⎠⋅ℯ    ⋅θ(t)"
      ]
     },
     "execution_count": 29,
     "metadata": {},
     "output_type": "execute_result"
    }
   ],
   "source": [
    "s = sympy.symbols('s', real=True)\n",
    "G = (s**2 + 2*s + 3) / ((s**2 - 1)*(s+2))\n",
    "partA = inverse_laplace_transform(G, s, t)\n",
    "partA.simplify()"
   ]
  },
  {
   "cell_type": "markdown",
   "metadata": {},
   "source": [
    "## question 1b"
   ]
  },
  {
   "cell_type": "code",
   "execution_count": 31,
   "metadata": {},
   "outputs": [
    {
     "data": {
      "image/png": "[encoded data removed]",
      "text/latex": [
       "$\\displaystyle 2 \\left(e^{t} - \\cos{\\left(t \\right)}\\right) e^{- 2 t} \\theta\\left(t\\right)$"
      ],
      "text/plain": [
       "  ⎛ t         ⎞  -2⋅t     \n",
       "2⋅⎝ℯ  - cos(t)⎠⋅ℯ    ⋅θ(t)"
      ]
     },
     "execution_count": 31,
     "metadata": {},
     "output_type": "execute_result"
    }
   ],
   "source": [
    "G = (2*s +6) / (s**3 + 5*s**2 + 9*s +5)\n",
    "partB = inverse_laplace_transform(G, s, t)\n",
    "partB.simplify()"
   ]
  },
  {
   "cell_type": "markdown",
   "metadata": {},
   "source": [
    "## question 1c"
   ]
  },
  {
   "cell_type": "code",
   "execution_count": 32,
   "metadata": {},
   "outputs": [
    {
     "data": {
      "image/png": "[encoded data removed]",
      "text/latex": [
       "$\\displaystyle \\frac{\\left(3 \\sin{\\left(3 t \\right)} + 5 \\cos{\\left(3 t \\right)} - 5\\right) e^{- t} \\theta\\left(t\\right)}{9}$"
      ],
      "text/plain": [
       "                               -t     \n",
       "(3⋅sin(3⋅t) + 5⋅cos(3⋅t) - 5)⋅ℯ  ⋅θ(t)\n",
       "──────────────────────────────────────\n",
       "                  9                   "
      ]
     },
     "execution_count": 32,
     "metadata": {},
     "output_type": "execute_result"
    }
   ],
   "source": [
    "G = (s - 4) / ((s + 1)*(s**2 +2*s + 10))\n",
    "partC = inverse_laplace_transform(G, s, t)\n",
    "partC.simplify()"
   ]
  },
  {
   "cell_type": "markdown",
   "metadata": {},
   "source": [
    "## question 1d"
   ]
  },
  {
   "cell_type": "code",
   "execution_count": 33,
   "metadata": {},
   "outputs": [
    {
     "data": {
      "image/png": "[encoded data removed]",
      "text/latex": [
       "$\\displaystyle \\mathcal{L}^{-1}_{s}\\left[\\frac{s^{2}}{s^{2} + s - 2}\\right]\\left(t\\right) + \\frac{5 e^{t} \\theta\\left(t\\right)}{3} + \\frac{e^{- 2 t} \\theta\\left(t\\right)}{3}$"
      ],
      "text/plain": [
       "                       ⎛     2                ⎞      t         -2⋅t     \n",
       "                       ⎜    s                 ⎟   5⋅ℯ ⋅θ(t)   ℯ    ⋅θ(t)\n",
       "InverseLaplaceTransform⎜──────────, s, t, None⎟ + ───────── + ──────────\n",
       "                       ⎜ 2                    ⎟       3           3     \n",
       "                       ⎝s  + s - 2            ⎠                         "
      ]
     },
     "execution_count": 33,
     "metadata": {},
     "output_type": "execute_result"
    }
   ],
   "source": [
    "G = (s**2 + 2*s + 3) / (s**2 + s -2)\n",
    "partD = inverse_laplace_transform(G, s, t)\n",
    "partD.simplify()"
   ]
  },
  {
   "cell_type": "markdown",
   "metadata": {},
   "source": [
    "not helpful in the slightest but easy to do by hand w/ partial fractions"
   ]
  },
  {
   "cell_type": "markdown",
   "metadata": {},
   "source": [
    "## question 2a"
   ]
  },
  {
   "cell_type": "code",
   "execution_count": 43,
   "metadata": {},
   "outputs": [
    {
     "data": {
      "image/png": "[encoded data removed]",
      "text/latex": [
       "$\\displaystyle - 2 \\left(- e^{t} \\sin{\\left(t \\right)} + e^{t} \\cos{\\left(t \\right)} - 1\\right) e^{- 3 t} \\theta\\left(t\\right)$"
      ],
      "text/plain": [
       "   ⎛   t           t           ⎞  -3⋅t     \n",
       "-2⋅⎝- ℯ ⋅sin(t) + ℯ ⋅cos(t) - 1⎠⋅ℯ    ⋅θ(t)"
      ]
     },
     "execution_count": 43,
     "metadata": {},
     "output_type": "execute_result"
    }
   ],
   "source": [
    "G = 4 / ((s + 3) * (s**2 + 4*s + 5))\n",
    "part2A = inverse_laplace_transform(G,s,t)\n",
    "re(part2A)"
   ]
  },
  {
   "cell_type": "markdown",
   "metadata": {},
   "source": [
    "## question 2b"
   ]
  },
  {
   "cell_type": "code",
   "execution_count": 44,
   "metadata": {},
   "outputs": [
    {
     "data": {
      "image/png": "[encoded data removed]",
      "text/latex": [
       "$\\displaystyle - 4 \\left(\\cos{\\left(2 t \\right)} - 1\\right) \\theta\\left(t\\right)$"
      ],
      "text/plain": [
       "-4⋅(cos(2⋅t) - 1)⋅θ(t)"
      ]
     },
     "execution_count": 44,
     "metadata": {},
     "output_type": "execute_result"
    }
   ],
   "source": [
    "G = 16 / (s* (s**2 + 4))\n",
    "part2B = inverse_laplace_transform(G,s,t)\n",
    "part2B"
   ]
  },
  {
   "cell_type": "code",
   "execution_count": null,
   "metadata": {},
   "outputs": [],
   "source": []
  }
 ],
 "metadata": {
  "kernelspec": {
   "display_name": "Python 3",
   "language": "python",
   "name": "python3"
  },
  "language_info": {
   "codemirror_mode": {
    "name": "ipython",
    "version": 3
   },
   "file_extension": ".py",
   "mimetype": "text/x-python",
   "name": "python",
   "nbconvert_exporter": "python",
   "pygments_lexer": "ipython3",
   "version": "3.8.3"
  }
 },
 "nbformat": 4,
 "nbformat_minor": 4
}
