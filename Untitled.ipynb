{
 "cells": [
  {
   "cell_type": "code",
   "execution_count": 12,
   "metadata": {},
   "outputs": [],
   "source": [
    "import sympy\n",
    "from math import sqrt"
   ]
  },
  {
   "cell_type": "markdown",
   "metadata": {},
   "source": [
    "# aae301 hw 9 - Nick Mondora"
   ]
  },
  {
   "cell_type": "markdown",
   "metadata": {},
   "source": [
    "## question 1a"
   ]
  },
  {
   "cell_type": "code",
   "execution_count": 13,
   "metadata": {},
   "outputs": [],
   "source": [
    "t = sympy.symbols('t', real=True)"
   ]
  },
  {
   "cell_type": "code",
   "execution_count": 14,
   "metadata": {},
   "outputs": [],
   "source": [
    "A = sympy.Matrix([\n",
    "    [0, -5],\n",
    "    [1, -2]\n",
    "])"
   ]
  },
  {
   "cell_type": "code",
   "execution_count": 15,
   "metadata": {},
   "outputs": [
    {
     "data": {
      "text/latex": [
       "$\\displaystyle \\left[\\begin{matrix}\\frac{e^{- t} \\sin{\\left(2 t \\right)}}{2} + e^{- t} \\cos{\\left(2 t \\right)} & - \\frac{5 e^{- t} \\sin{\\left(2 t \\right)}}{2}\\\\\\frac{e^{- t} \\sin{\\left(2 t \\right)}}{2} & - \\frac{e^{- t} \\sin{\\left(2 t \\right)}}{2} + e^{- t} \\cos{\\left(2 t \\right)}\\end{matrix}\\right]$"
      ],
      "text/plain": [
       "Matrix([\n",
       "[exp(-t)*sin(2*t)/2 + exp(-t)*cos(2*t),                  -5*exp(-t)*sin(2*t)/2],\n",
       "[                   exp(-t)*sin(2*t)/2, -exp(-t)*sin(2*t)/2 + exp(-t)*cos(2*t)]])"
      ]
     },
     "execution_count": 15,
     "metadata": {},
     "output_type": "execute_result"
    }
   ],
   "source": [
    "sympy.exp(A*t).expand(complex=True)"
   ]
  },
  {
   "cell_type": "markdown",
   "metadata": {},
   "source": [
    "## question 1b"
   ]
  },
  {
   "cell_type": "code",
   "execution_count": 19,
   "metadata": {},
   "outputs": [
    {
     "data": {
      "text/latex": [
       "$\\displaystyle \\left[\\begin{matrix}0 & -3 & 2\\\\3 & 0 & - \\sqrt{3}\\\\-2 & \\sqrt{3} & 0\\end{matrix}\\right]$"
      ],
      "text/plain": [
       "Matrix([\n",
       "[ 0,      -3,        2],\n",
       "[ 3,       0, -sqrt(3)],\n",
       "[-2, sqrt(3),        0]])"
      ]
     },
     "execution_count": 19,
     "metadata": {},
     "output_type": "execute_result"
    }
   ],
   "source": [
    "A = sympy.Matrix([\n",
    "    [0, -3, 2],\n",
    "    [3, 0, -sympy.sqrt(3)],\n",
    "    [-2, sympy.sqrt(3), 0]\n",
    "])\n",
    "A"
   ]
  },
  {
   "cell_type": "code",
   "execution_count": 20,
   "metadata": {},
   "outputs": [
    {
     "data": {
      "text/latex": [
       "$\\displaystyle \\left[\\begin{matrix}\\frac{13 \\cos{\\left(4 t \\right)}}{16} + \\frac{3}{16} & - \\frac{3 \\sin{\\left(4 t \\right)}}{4} - \\frac{\\sqrt{3} \\cos{\\left(4 t \\right)}}{8} + \\frac{\\sqrt{3}}{8} & \\frac{\\sin{\\left(4 t \\right)}}{2} - \\frac{3 \\sqrt{3} \\cos{\\left(4 t \\right)}}{16} + \\frac{3 \\sqrt{3}}{16}\\\\\\frac{3 \\sin{\\left(4 t \\right)}}{4} - \\frac{\\sqrt{3} \\cos{\\left(4 t \\right)}}{8} + \\frac{\\sqrt{3}}{8} & \\frac{3 \\cos{\\left(4 t \\right)}}{4} + \\frac{1}{4} & - \\frac{\\sqrt{3} \\sin{\\left(4 t \\right)}}{4} - \\frac{3 \\cos{\\left(4 t \\right)}}{8} + \\frac{3}{8}\\\\- \\frac{\\sin{\\left(4 t \\right)}}{2} - \\frac{3 \\sqrt{3} \\cos{\\left(4 t \\right)}}{16} + \\frac{3 \\sqrt{3}}{16} & \\frac{\\sqrt{3} \\sin{\\left(4 t \\right)}}{4} - \\frac{3 \\cos{\\left(4 t \\right)}}{8} + \\frac{3}{8} & \\frac{7 \\cos{\\left(4 t \\right)}}{16} + \\frac{9}{16}\\end{matrix}\\right]$"
      ],
      "text/plain": [
       "Matrix([\n",
       "[                             13*cos(4*t)/16 + 3/16, -3*sin(4*t)/4 - sqrt(3)*cos(4*t)/8 + sqrt(3)/8, sin(4*t)/2 - 3*sqrt(3)*cos(4*t)/16 + 3*sqrt(3)/16],\n",
       "[     3*sin(4*t)/4 - sqrt(3)*cos(4*t)/8 + sqrt(3)/8,                             3*cos(4*t)/4 + 1/4,          -sqrt(3)*sin(4*t)/4 - 3*cos(4*t)/8 + 3/8],\n",
       "[-sin(4*t)/2 - 3*sqrt(3)*cos(4*t)/16 + 3*sqrt(3)/16,        sqrt(3)*sin(4*t)/4 - 3*cos(4*t)/8 + 3/8,                              7*cos(4*t)/16 + 9/16]])"
      ]
     },
     "execution_count": 20,
     "metadata": {},
     "output_type": "execute_result"
    }
   ],
   "source": [
    "sympy.exp(A*t).expand(complex=True)"
   ]
  },
  {
   "cell_type": "code",
   "execution_count": null,
   "metadata": {},
   "outputs": [],
   "source": []
  }
 ],
 "metadata": {
  "kernelspec": {
   "display_name": "Python 3",
   "language": "python",
   "name": "python3"
  },
  "language_info": {
   "codemirror_mode": {
    "name": "ipython",
    "version": 3
   },
   "file_extension": ".py",
   "mimetype": "text/x-python",
   "name": "python",
   "nbconvert_exporter": "python",
   "pygments_lexer": "ipython3",
   "version": "3.8.3"
  }
 },
 "nbformat": 4,
 "nbformat_minor": 4
}
