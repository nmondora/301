{
 "cells": [
  {
   "cell_type": "code",
   "execution_count": 173,
   "metadata": {},
   "outputs": [],
   "source": [
    "from pylab import *"
   ]
  },
  {
   "cell_type": "markdown",
   "metadata": {},
   "source": [
    "## Homework 3"
   ]
  },
  {
   "cell_type": "markdown",
   "metadata": {},
   "source": [
    "Nick Mondora"
   ]
  },
  {
   "cell_type": "markdown",
   "metadata": {},
   "source": [
    "Question 1"
   ]
  },
  {
   "cell_type": "markdown",
   "metadata": {},
   "source": [
    "a) Plot the approximation of p100(t) in"
   ]
  },
  {
   "cell_type": "markdown",
   "metadata": {},
   "source": [
    "$p_n$(t) = $\\frac{4}{\\pi}$ $\\sum_{odd k >= 1}^{n} \\frac{sin(kt)}{k}$"
   ]
  },
  {
   "cell_type": "markdown",
   "metadata": {},
   "source": [
    "for the function f(t) defined as"
   ]
  },
  {
   "cell_type": "markdown",
   "metadata": {},
   "source": [
    "f(t) = 1 if 0 <= t < $\\pi$"
   ]
  },
  {
   "cell_type": "markdown",
   "metadata": {},
   "source": [
    "f(t) = -1 if $\\pi$ <= t <= 2$\\pi$"
   ]
  },
  {
   "cell_type": "code",
   "execution_count": 174,
   "metadata": {},
   "outputs": [],
   "source": [
    "t = linspace(0, 2*pi, 1000)\n",
    "a0 = 0\n",
    "approx = a0*1\n",
    "n = 100\n",
    "# note to get n, you need to use range k+1\n",
    "for k in range(1, n+1, 2):\n",
    "    approx = approx + (4/pi)*sin(k*t)/k"
   ]
  },
  {
   "cell_type": "code",
   "execution_count": 175,
   "metadata": {},
   "outputs": [
    {
     "data": {
      "text/plain": [
       "Text(0.5, 0, 't')"
      ]
     },
     "execution_count": 175,
     "metadata": {},
     "output_type": "execute_result"
    },
    {
     "data": {
      "image/png": "[encoded data removed]",
      "text/plain": [
       "<Figure size 432x288 with 1 Axes>"
      ]
     },
     "metadata": {
      "needs_background": "light"
     },
     "output_type": "display_data"
    }
   ],
   "source": [
    "f = where(t < pi, 1, -1)\n",
    "\n",
    "plot(t, f)\n",
    "plot(t, approx)\n",
    "grid()\n",
    "xlabel('t')"
   ]
  },
  {
   "cell_type": "markdown",
   "metadata": {},
   "source": [
    "b) Plot the spectrum of |$a_{k}$| vs. k"
   ]
  },
  {
   "cell_type": "code",
   "execution_count": 176,
   "metadata": {},
   "outputs": [],
   "source": [
    "ak_list = []\n",
    "n = 100\n",
    "k_list = range(-n, n+1)\n",
    "    \n",
    "for k in k_list:\n",
    "    if k == 0:\n",
    "        ak_list.append(0)\n",
    "    elif k % 2 == 0:  #even\n",
    "        ak_list.append(0)\n",
    "    else:  # odd and non-zero\n",
    "        ak_list.append(2*1j/(pi*k))\n",
    "\n",
    "# turn list into \n",
    "ak_list = np.array(ak_list)"
   ]
  },
  {
   "cell_type": "code",
   "execution_count": 177,
   "metadata": {},
   "outputs": [
    {
     "data": {
      "image/png": "[encoded data removed]",
      "text/plain": [
       "<Figure size 432x288 with 1 Axes>"
      ]
     },
     "metadata": {
      "needs_background": "light"
     },
     "output_type": "display_data"
    }
   ],
   "source": [
    "power = abs(ak_list)**2\n",
    "bar(k_list, power)\n",
    "xlabel('k')\n",
    "ylabel('power')\n",
    "title('power spectrum')\n",
    "grid()"
   ]
  },
  {
   "cell_type": "markdown",
   "metadata": {},
   "source": [
    "## Question 2"
   ]
  },
  {
   "cell_type": "markdown",
   "metadata": {},
   "source": [
    "a) Compute the Fourier series for the function f in L$^{2}$(0, 2$\\pi$) given by"
   ]
  },
  {
   "cell_type": "markdown",
   "metadata": {},
   "source": [
    "f(t) = t if 0 <= t < $\\pi$"
   ]
  },
  {
   "cell_type": "markdown",
   "metadata": {},
   "source": [
    "f(t) = 2$\\pi$-t if $\\pi$ <= t <= 2$\\pi$"
   ]
  },
  {
   "cell_type": "code",
   "execution_count": 178,
   "metadata": {},
   "outputs": [],
   "source": [
    "from sympy import *\n",
    "import numpy as np\n",
    "\n",
    "import matplotlib.pyplot as plt\n",
    "\n",
    "def L2_inner_product(f, g, tau):\n",
    "    # you can define t here to not rely on a global definition\n",
    "    t = symbols('t', real=True)\n",
    "    return (integrate(f*conjugate(g), (t, 0, tau))/tau).simplify()\n",
    "\n",
    "def L2_norm(f, tau):\n",
    "    return sqrt(L2_inner_product(f, f, tau))\n",
    "\n",
    "def L2_coefficient(f, g, tau):\n",
    "    return (L2_inner_product(f, g, tau)/L2_norm(g, tau)**2).simplify()"
   ]
  },
  {
   "cell_type": "code",
   "execution_count": 179,
   "metadata": {},
   "outputs": [],
   "source": [
    "t = symbols('t', real=True)\n",
    "k = symbols('k', real=True, integer=True)\n",
    "f = Piecewise(\n",
    "    (t, t < pi),   # t is zero before time pi\n",
    "    (2*pi -t, t < 2*pi),      # otherwise, t is 1\n",
    ")\n",
    "tau = 2*pi"
   ]
  },
  {
   "cell_type": "code",
   "execution_count": 180,
   "metadata": {},
   "outputs": [
    {
     "data": {
      "text/latex": [
       "$\\displaystyle \\psi_1k = \\cos{\\left(k t \\right)}$"
      ],
      "text/plain": [
       "Eq(\\psi_1k, cos(k*t))"
      ]
     },
     "execution_count": 180,
     "metadata": {},
     "output_type": "execute_result"
    }
   ],
   "source": [
    "psi_1k = cos(k*t*2*pi/tau)\n",
    "Eq(symbols('\\psi_1k'), psi_1k)"
   ]
  },
  {
   "cell_type": "code",
   "execution_count": 181,
   "metadata": {},
   "outputs": [
    {
     "data": {
      "text/latex": [
       "$\\displaystyle \\alpha_{k} = \\begin{cases} \\frac{2 \\left(\\left(-1\\right)^{k} - 1\\right)}{\\pi k^{2}} & \\text{for}\\: k \\neq 0 \\\\\\frac{\\pi}{2} & \\text{otherwise} \\end{cases}$"
      ],
      "text/plain": [
       "Eq(alpha_k, Piecewise((2*((-1)**k - 1)/(pi*k**2), Ne(k, 0)), (pi/2, True)))"
      ]
     },
     "execution_count": 181,
     "metadata": {},
     "output_type": "execute_result"
    }
   ],
   "source": [
    "alpha_k = L2_coefficient(f, psi_1k, tau)\n",
    "Eq(symbols('alpha_k'), alpha_k)"
   ]
  },
  {
   "cell_type": "code",
   "execution_count": 182,
   "metadata": {},
   "outputs": [
    {
     "data": {
      "text/latex": [
       "$\\displaystyle \\psi_2k = \\sin{\\left(k t \\right)}$"
      ],
      "text/plain": [
       "Eq(\\psi_2k, sin(k*t))"
      ]
     },
     "execution_count": 182,
     "metadata": {},
     "output_type": "execute_result"
    }
   ],
   "source": [
    "psi_2k = sin(k*t*2*pi/tau)\n",
    "Eq(symbols('\\psi_2k'), psi_2k)"
   ]
  },
  {
   "cell_type": "code",
   "execution_count": 183,
   "metadata": {},
   "outputs": [
    {
     "data": {
      "text/latex": [
       "$\\displaystyle \\beta_{k} = 0$"
      ],
      "text/plain": [
       "Eq(beta_k, 0)"
      ]
     },
     "execution_count": 183,
     "metadata": {},
     "output_type": "execute_result"
    }
   ],
   "source": [
    "beta_k = L2_coefficient(f, psi_2k, tau)\n",
    "Eq(symbols('beta_k'), beta_k)"
   ]
  },
  {
   "cell_type": "code",
   "execution_count": 184,
   "metadata": {},
   "outputs": [
    {
     "data": {
      "text/latex": [
       "$\\displaystyle a_{0} = \\frac{\\pi}{2}$"
      ],
      "text/plain": [
       "Eq(a_0, pi/2)"
      ]
     },
     "execution_count": 184,
     "metadata": {},
     "output_type": "execute_result"
    }
   ],
   "source": [
    "psi_1 = 1\n",
    "a_0 = L2_coefficient(f, psi_1, tau)\n",
    "Eq(symbols('a_0'), a_0)"
   ]
  },
  {
   "cell_type": "code",
   "execution_count": 185,
   "metadata": {},
   "outputs": [],
   "source": [
    "def L2_approx(n):\n",
    "    approx = a_0\n",
    "    for k_i in range(1, n+1):\n",
    "        approx += (alpha_k*psi_1k + beta_k*psi_2k).subs(k, k_i)\n",
    "        #print(approx) # display the approximation\n",
    "    fig = plot(approx, f, (t, 0, 4*pi), legend=True, show=False)\n",
    "    fig[0].line_color='r'\n",
    "    fig[0].label = 'p_' + str(n)\n",
    "    fig[1].label = 'f'\n",
    "    fig.show()"
   ]
  },
  {
   "cell_type": "code",
   "execution_count": 186,
   "metadata": {},
   "outputs": [
    {
     "data": {
      "image/png": "[encoded data removed]",
      "text/plain": [
       "<Figure size 432x288 with 1 Axes>"
      ]
     },
     "metadata": {
      "needs_background": "light"
     },
     "output_type": "display_data"
    },
    {
     "data": {
      "image/png": "[encoded data removed]",
      "text/plain": [
       "<Figure size 432x288 with 1 Axes>"
      ]
     },
     "metadata": {
      "needs_background": "light"
     },
     "output_type": "display_data"
    }
   ],
   "source": [
    "L2_approx(2)\n",
    "L2_approx(20)"
   ]
  },
  {
   "cell_type": "markdown",
   "metadata": {},
   "source": [
    "## Question 3"
   ]
  },
  {
   "cell_type": "markdown",
   "metadata": {},
   "source": [
    "c) Compute the root mean square error of the approximation for part b using"
   ]
  },
  {
   "cell_type": "code",
   "execution_count": 189,
   "metadata": {},
   "outputs": [
    {
     "name": "stdout",
     "output_type": "stream",
     "text": [
      "error 0.00409916549533553\n"
     ]
    }
   ],
   "source": [
    "f_norm_sq = pi**2/3\n",
    "a0 = pi/2\n",
    "pn_norm_sq = 0\n",
    "n = 20\n",
    "for k in range(-n, n+1):\n",
    "    if k == 0:\n",
    "        ak = a0\n",
    "    elif k %2 == 1: # odd\n",
    "        ak = -2/(pi*k**2)\n",
    "    else: #even\n",
    "        ak = 0\n",
    "    pn_norm_sq += abs(ak)**2\n",
    "\n",
    "error_norm = sqrt(f_norm_sq - pn_norm_sq).evalf()\n",
    "print('error', error_norm)"
   ]
  },
  {
   "cell_type": "markdown",
   "metadata": {},
   "source": [
    "## Question 4"
   ]
  },
  {
   "cell_type": "markdown",
   "metadata": {},
   "source": [
    "Suppose that g(t) admits a Fourier series expansion of the form g(t)=2+3e $^{i2t}$ -ie $^{-i4t}$ . Find the real part of g(t) and compute"
   ]
  },
  {
   "cell_type": "code",
   "execution_count": 188,
   "metadata": {},
   "outputs": [
    {
     "data": {
      "text/latex": [
       "$\\displaystyle 3 e^{2 i t} + 2 - i e^{- 4 i t}$"
      ],
      "text/plain": [
       "3*exp(2*I*t) + 2 - I*exp(-4*I*t)"
      ]
     },
     "execution_count": 188,
     "metadata": {},
     "output_type": "execute_result"
    }
   ],
   "source": [
    "t = symbols('t', real=True)\n",
    "g = 2 + 3*exp(I*2*t) - I*exp(-I*4*t)\n",
    "g"
   ]
  },
  {
   "cell_type": "code",
   "execution_count": 169,
   "metadata": {},
   "outputs": [
    {
     "data": {
      "text/latex": [
       "$\\displaystyle - \\sin{\\left(4 t \\right)} + 3 \\cos{\\left(2 t \\right)} + 2$"
      ],
      "text/plain": [
       "-sin(4*t) + 3*cos(2*t) + 2"
      ]
     },
     "execution_count": 169,
     "metadata": {},
     "output_type": "execute_result"
    }
   ],
   "source": [
    "re(g)"
   ]
  },
  {
   "cell_type": "code",
   "execution_count": 170,
   "metadata": {},
   "outputs": [
    {
     "data": {
      "text/latex": [
       "$\\displaystyle \\sqrt{14}$"
      ],
      "text/plain": [
       "sqrt(14)"
      ]
     },
     "execution_count": 170,
     "metadata": {},
     "output_type": "execute_result"
    }
   ],
   "source": [
    "L2_norm(g,2*pi)"
   ]
  },
  {
   "cell_type": "code",
   "execution_count": null,
   "metadata": {},
   "outputs": [],
   "source": []
  }
 ],
 "metadata": {
  "kernelspec": {
   "display_name": "Python 3",
   "language": "python",
   "name": "python3"
  },
  "language_info": {
   "codemirror_mode": {
    "name": "ipython",
    "version": 3
   },
   "file_extension": ".py",
   "mimetype": "text/x-python",
   "name": "python",
   "nbconvert_exporter": "python",
   "pygments_lexer": "ipython3",
   "version": "3.8.3"
  }
 },
 "nbformat": 4,
 "nbformat_minor": 4
}
